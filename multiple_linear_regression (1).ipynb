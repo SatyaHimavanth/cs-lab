{
 "cells": [
  {
   "cell_type": "code",
   "execution_count": 24,
   "id": "689fd214",
   "metadata": {},
   "outputs": [],
   "source": [
    "import numpy as np\n",
    "from scipy import linalg"
   ]
  },
  {
   "cell_type": "code",
   "execution_count": 25,
   "id": "8eb93e68",
   "metadata": {},
   "outputs": [
    {
     "name": "stdout",
     "output_type": "stream",
     "text": [
      "12\n",
      "3\n",
      "100 110 105 94 95 99 104 108 105 98 105 110\n",
      "Enter rowwise: 1 9 62 1 8 58 1 7 64 1 14 60 1 12 63 1 10 57 1 7 55 1 4 56 1 6 59 1 5 61 1 7 57 1 6 60\n"
     ]
    }
   ],
   "source": [
    "n=int(input())\n",
    "p=int(input())\n",
    "y=list(map(int, input().split()))\n",
    "# 100 110 105 94 95 99 104 108 105 98 105 110\n",
    "y=np.matrix(y).reshape(n,1)\n",
    "x=list(map(int, input(\"Enter rowwise: \").split()))\n",
    "# 1 9 62 1 8 58 1 7 64 1 14 60 1 12 63 1 10 57 1 7 55 1 4 56 1 6 59 1 5 61 1 7 57 1 6 60\n",
    "x=np.matrix(x).reshape(n,p)\n",
    "xt=x.T"
   ]
  },
  {
   "cell_type": "code",
   "execution_count": 26,
   "id": "8f0cddd6",
   "metadata": {},
   "outputs": [
    {
     "name": "stdout",
     "output_type": "stream",
     "text": [
      "y= [[100]\n",
      " [110]\n",
      " [105]\n",
      " [ 94]\n",
      " [ 95]\n",
      " [ 99]\n",
      " [104]\n",
      " [108]\n",
      " [105]\n",
      " [ 98]\n",
      " [105]\n",
      " [110]]\n",
      "x= [[ 1  9 62]\n",
      " [ 1  8 58]\n",
      " [ 1  7 64]\n",
      " [ 1 14 60]\n",
      " [ 1 12 63]\n",
      " [ 1 10 57]\n",
      " [ 1  7 55]\n",
      " [ 1  4 56]\n",
      " [ 1  6 59]\n",
      " [ 1  5 61]\n",
      " [ 1  7 57]\n",
      " [ 1  6 60]]\n",
      "xt= [[ 1  1  1  1  1  1  1  1  1  1  1  1]\n",
      " [ 9  8  7 14 12 10  7  4  6  5  7  6]\n",
      " [62 58 64 60 63 57 55 56 59 61 57 60]]\n"
     ]
    }
   ],
   "source": [
    "print(\"y=\",y)\n",
    "print(\"x=\",x)\n",
    "print(\"xt=\",xt)"
   ]
  },
  {
   "cell_type": "code",
   "execution_count": 27,
   "id": "390cb24c",
   "metadata": {},
   "outputs": [
    {
     "name": "stdout",
     "output_type": "stream",
     "text": [
      "[[ 4.08944026e+01  1.14046520e-01 -7.03043891e-01]\n",
      " [ 1.14046520e-01  1.17514524e-02 -3.49009300e-03]\n",
      " [-7.03043891e-01 -3.49009300e-03  1.23147269e-02]]\n",
      "[[ 1233]\n",
      " [ 9636]\n",
      " [73094]]\n"
     ]
    }
   ],
   "source": [
    "xtx_1=linalg.inv(np.dot(xt,x))\n",
    "xty=np.dot(xt,y)\n",
    "print(xtx_1)\n",
    "print(xty)"
   ]
  },
  {
   "cell_type": "code",
   "execution_count": 28,
   "id": "1c40021a",
   "metadata": {},
   "outputs": [
    {
     "data": {
      "text/plain": [
       "matrix([[133.46048243],\n",
       "        [ -1.24850346],\n",
       "        [ -0.35100837]])"
      ]
     },
     "execution_count": 28,
     "metadata": {},
     "output_type": "execute_result"
    }
   ],
   "source": [
    "B=np.dot(xtx_1,xty)\n",
    "B"
   ]
  },
  {
   "cell_type": "code",
   "execution_count": 29,
   "id": "23df3add",
   "metadata": {},
   "outputs": [
    {
     "name": "stdout",
     "output_type": "stream",
     "text": [
      "y= 133.460482428044 + x1 -1.2485034569591869 + x2 -0.3510083718053672\n"
     ]
    }
   ],
   "source": [
    "if len(B)==2:\n",
    "    print(\"y=\",float(B[0]),\"+ x\",float(B[1]))\n",
    "elif len(B)==3:\n",
    "    print(\"y=\",float(B[0]),\"+ x1\",float(B[1]),\"+ x2\",float(B[2]))"
   ]
  },
  {
   "cell_type": "code",
   "execution_count": 30,
   "id": "a0c84fd5",
   "metadata": {},
   "outputs": [],
   "source": [
    "#goodness of fit R2"
   ]
  },
  {
   "cell_type": "code",
   "execution_count": 31,
   "id": "fb4273f4",
   "metadata": {},
   "outputs": [
    {
     "name": "stdout",
     "output_type": "stream",
     "text": [
      "[[100.46143226]\n",
      " [103.11396921]\n",
      " [102.25642243]\n",
      " [ 94.92093172]\n",
      " [ 96.36491352]\n",
      " [100.96797067]\n",
      " [105.41549778]\n",
      " [108.80999978]\n",
      " [105.25996775]\n",
      " [105.80645446]\n",
      " [104.71348104]\n",
      " [104.90895938]]\n"
     ]
    }
   ],
   "source": [
    "fy=[]\n",
    "for i in range(n):\n",
    "    fy.append(float(B[0]) + float(B[1])*x[i,1] + float(B[2])*x[i,2])\n",
    "    \n",
    "fy=list(fy)\n",
    "fy=np.matrix(fy).reshape(n,1)\n",
    "print(fy)"
   ]
  },
  {
   "cell_type": "code",
   "execution_count": 32,
   "id": "d783e236",
   "metadata": {},
   "outputs": [
    {
     "data": {
      "text/plain": [
       "matrix([[-0.46143226],\n",
       "        [ 6.88603079],\n",
       "        [ 2.74357757],\n",
       "        [-0.92093172],\n",
       "        [-1.36491352],\n",
       "        [-1.96797067],\n",
       "        [-1.41549778],\n",
       "        [-0.80999978],\n",
       "        [-0.25996775],\n",
       "        [-7.80645446],\n",
       "        [ 0.28651896],\n",
       "        [ 5.09104062]])"
      ]
     },
     "execution_count": 32,
     "metadata": {},
     "output_type": "execute_result"
    }
   ],
   "source": [
    "Eo=y-fy\n",
    "Eo"
   ]
  },
  {
   "cell_type": "code",
   "execution_count": 33,
   "id": "fe548486",
   "metadata": {},
   "outputs": [
    {
     "name": "stdout",
     "output_type": "stream",
     "text": [
      "[[102.75]] [151.41040622] [[330.25]] [[0.54152791]]\n"
     ]
    }
   ],
   "source": [
    "y_=sum(y)/n\n",
    "sse=sum(list(np.array(Eo)**2))\n",
    "sst=0\n",
    "for i in range(n):\n",
    "    sst=sst+(y[i]-y_)**2\n",
    "\n",
    "ssr=sst-sse\n",
    "R2=ssr/sst\n",
    "\n",
    "print(y_,sse,sst,R2)"
   ]
  },
  {
   "cell_type": "code",
   "execution_count": 34,
   "id": "bc3db406",
   "metadata": {},
   "outputs": [
    {
     "name": "stdout",
     "output_type": "stream",
     "text": [
      "we reject the model\n"
     ]
    }
   ],
   "source": [
    "if R2>0.9:\n",
    "    print(\"we accept the model\")\n",
    "else:\n",
    "    print(\"we reject the model\")"
   ]
  },
  {
   "cell_type": "code",
   "execution_count": 35,
   "id": "724da8ef",
   "metadata": {},
   "outputs": [],
   "source": [
    "#goodness of fit using ANOVA"
   ]
  },
  {
   "cell_type": "code",
   "execution_count": 39,
   "id": "d8b1e92d",
   "metadata": {},
   "outputs": [
    {
     "name": "stdout",
     "output_type": "stream",
     "text": [
      "[[5.31521044]]\n",
      "We reject Ho\n",
      "There is atleast one Bj that contributes to the table\n",
      "We accept the model\n"
     ]
    }
   ],
   "source": [
    "alp=0.05\n",
    "Mssr=ssr/(p-1)\n",
    "Msse=sse/(n-p)\n",
    "F=Mssr/Msse\n",
    "cou=0\n",
    "if F<1:\n",
    "    cou=1\n",
    "    F=1/F\n",
    "print(F)\n",
    "import scipy.stats as s\n",
    "if cou==1:\n",
    "    Ft=s.f.ppf(1-alp,n-p,p-1)\n",
    "else:\n",
    "    Ft=s.f.ppf(1-alp,p-1,n-p)\n",
    "if F>Ft:\n",
    "    print(\"We reject Ho\")\n",
    "    print(\"There is atleast one Bj that contributes to the table\")\n",
    "    print(\"We accept the model\")\n",
    "else:\n",
    "    print(\"We accept Ho\")\n",
    "    print(\"There is no Bj that contributes to the table\")\n",
    "    print(\"We accept the model\")"
   ]
  },
  {
   "cell_type": "code",
   "execution_count": 40,
   "id": "2c18fb6e",
   "metadata": {},
   "outputs": [],
   "source": [
    "#to know which variable is more contributing"
   ]
  },
  {
   "cell_type": "code",
   "execution_count": 41,
   "id": "2a5a019c",
   "metadata": {},
   "outputs": [
    {
     "name": "stdout",
     "output_type": "stream",
     "text": [
      "[array([26.22941121]), array([0.4446337]), array([0.45516515])]\n",
      "[matrix([[5.08819971]]), matrix([[-2.80793706]]), matrix([[-0.77116707]])]\n"
     ]
    }
   ],
   "source": [
    "#Msse , xtx_1\n",
    "SE=[]\n",
    "tcal=[]\n",
    "for i in range(len(B)):\n",
    "    SE.append((Msse*(xtx_1[i,i]))**0.5)\n",
    "    tcal.append(B[i]/SE[i])\n",
    "print(SE)\n",
    "print(tcal)"
   ]
  },
  {
   "cell_type": "code",
   "execution_count": 42,
   "id": "a8320b85",
   "metadata": {},
   "outputs": [
    {
     "name": "stdout",
     "output_type": "stream",
     "text": [
      "2.26\n"
     ]
    }
   ],
   "source": [
    "import scipy.stats\n",
    "t=scipy.stats.t.ppf(1-alp/2,n-p)\n",
    "print(t.round(2))"
   ]
  },
  {
   "cell_type": "code",
   "execution_count": 43,
   "id": "bdce7eff",
   "metadata": {},
   "outputs": [
    {
     "name": "stdout",
     "output_type": "stream",
     "text": [
      "We reject Ho\n",
      "B0is contibuting to the model\n",
      "We reject Ho\n",
      "B1is contibuting to the model\n",
      "We accept Ho\n",
      "B2is not contibuting to the model\n"
     ]
    }
   ],
   "source": [
    "for i in range(len(B)):\n",
    "    if abs(tcal[i])>=t:\n",
    "        print(\"We reject Ho\")\n",
    "        print(\"B\"+str(i)+\"is contibuting to the model\")\n",
    "    else:\n",
    "        print(\"We accept Ho\")\n",
    "        print(\"B\"+str(i)+\"is not contibuting to the model\")"
   ]
  }
 ],
 "metadata": {
  "kernelspec": {
   "display_name": "Python 3 (ipykernel)",
   "language": "python",
   "name": "python3"
  },
  "language_info": {
   "codemirror_mode": {
    "name": "ipython",
    "version": 3
   },
   "file_extension": ".py",
   "mimetype": "text/x-python",
   "name": "python",
   "nbconvert_exporter": "python",
   "pygments_lexer": "ipython3",
   "version": "3.9.7"
  }
 },
 "nbformat": 4,
 "nbformat_minor": 5
}
