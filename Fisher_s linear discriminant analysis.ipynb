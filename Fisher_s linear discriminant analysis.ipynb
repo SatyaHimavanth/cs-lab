{
 "cells": [
  {
   "cell_type": "code",
   "execution_count": 32,
   "id": "4eacad3c",
   "metadata": {},
   "outputs": [],
   "source": [
    "import numpy as np\n",
    "import math"
   ]
  },
  {
   "cell_type": "code",
   "execution_count": 9,
   "id": "947f765b",
   "metadata": {},
   "outputs": [
    {
     "name": "stdout",
     "output_type": "stream",
     "text": [
      "Total no.of variables : 7\n",
      "no.of Independent variables : 2\n",
      "Enter x rowwise: 2.95 6.63 2.53 7.79 3.57 5.65 3.16 5.47 2.58 4.46 2.16 6.22 3.27 3.52\n",
      "Enter 1 to true and 2 to false\n",
      "Enter y rowwise: 1 1 1 1 2 2 2\n"
     ]
    }
   ],
   "source": [
    "n = int(input(\"Total no.of variables : \"))\n",
    "p = int(input(\"no.of Independent variables : \"))\n",
    "x = list(map(float, input(\"Enter x rowwise: \").split()))\n",
    "# 2.95 6.63 2.53 7.79 3.57 5.65 3.16 5.47 2.58 4.46 2.16 6.22 3.27 3.52\n",
    "x = np.matrix(x).reshape(n,p)\n",
    "print(\"Enter 1 to true and 2 to false\")\n",
    "y = list(map(int, input(\"Enter y rowwise: \").split()))\n",
    "y = np.matrix(y).reshape(n,1)\n",
    "Mu = np.zeros((1, p)) #1:2\n",
    "for i in range(n):\n",
    "    Mu = Mu+x[i]\n",
    "Mu = Mu/n"
   ]
  },
  {
   "cell_type": "code",
   "execution_count": 12,
   "id": "d12dcdb9",
   "metadata": {},
   "outputs": [
    {
     "name": "stdout",
     "output_type": "stream",
     "text": [
      "x= [[2.95 6.63]\n",
      " [2.53 7.79]\n",
      " [3.57 5.65]\n",
      " [3.16 5.47]\n",
      " [2.58 4.46]\n",
      " [2.16 6.22]\n",
      " [3.27 3.52]]\n",
      "y= [[1]\n",
      " [1]\n",
      " [1]\n",
      " [1]\n",
      " [2]\n",
      " [2]\n",
      " [2]]\n",
      "Mu= [[2.88857143 5.67714286]]\n"
     ]
    }
   ],
   "source": [
    "print(\"x=\",x)\n",
    "print(\"y=\",y)\n",
    "print(\"Mu=\",Mu)"
   ]
  },
  {
   "cell_type": "code",
   "execution_count": 18,
   "id": "3e96a73f",
   "metadata": {},
   "outputs": [
    {
     "name": "stdout",
     "output_type": "stream",
     "text": [
      "x1= [[2.95 6.63]\n",
      " [2.53 7.79]\n",
      " [3.57 5.65]\n",
      " [3.16 5.47]]\n",
      "Mu1= [[3.0525 6.385 ]]\n",
      "x2= [[2.58 4.46]\n",
      " [2.16 6.22]\n",
      " [3.27 3.52]]\n",
      "Mu2= [[2.67       4.73333333]]\n"
     ]
    }
   ],
   "source": [
    "a = list(y).count(1)\n",
    "b = list(y).count(2)\n",
    "x1 = np.zeros((a, p))\n",
    "x2 = np.zeros((b, p))\n",
    "Mu1 = np.zeros((1, p))\n",
    "Mu2 = np.zeros((1, p))\n",
    "for i in range(n):\n",
    "    if i<a:\n",
    "        x1[i] = x[i]\n",
    "        Mu1 = Mu1+x1[i]\n",
    "    else:\n",
    "        x2[i-a] = x[i]\n",
    "        Mu2 = Mu2+x2[i-a]\n",
    "        \n",
    "Mu1 = Mu1/a\n",
    "Mu2 = Mu2/b\n",
    "print(\"x1=\",x1)\n",
    "print(\"Mu1=\",Mu1)\n",
    "print(\"x2=\",x2)\n",
    "print(\"Mu2=\",Mu2)"
   ]
  },
  {
   "cell_type": "code",
   "execution_count": 19,
   "id": "fe65af9e",
   "metadata": {},
   "outputs": [
    {
     "name": "stdout",
     "output_type": "stream",
     "text": [
      "[[ 0.06142857  0.95285714]\n",
      " [-0.35857143  2.11285714]\n",
      " [ 0.68142857 -0.02714286]\n",
      " [ 0.27142857 -0.20714286]\n",
      " [-0.30857143 -1.21714286]\n",
      " [-0.72857143  0.54285714]\n",
      " [ 0.38142857 -2.15714286]]\n"
     ]
    }
   ],
   "source": [
    "x_Mu = np.zeros((n,p))\n",
    "for i in range(n):\n",
    "    x_Mu[i] = x[i]-Mu\n",
    "    \n",
    "print(x_Mu)"
   ]
  },
  {
   "cell_type": "code",
   "execution_count": 22,
   "id": "ba69cb5d",
   "metadata": {},
   "outputs": [],
   "source": [
    "def transpose(m):\n",
    "    ans = list()\n",
    "    for i in range(len(m[0])):\n",
    "        a=[]\n",
    "        for j in range(len(m)):\n",
    "            a.append(m[j][i])\n",
    "        ans.append(a)\n",
    "    return(np.matrix(ans))"
   ]
  },
  {
   "cell_type": "code",
   "execution_count": 23,
   "id": "ef9464d2",
   "metadata": {},
   "outputs": [
    {
     "name": "stdout",
     "output_type": "stream",
     "text": [
      "[[ 0.20598367 -0.23093265]\n",
      " [-0.23093265  1.69216327]]\n"
     ]
    }
   ],
   "source": [
    "C = (transpose(x_Mu)*x_Mu)/n\n",
    "print(C)"
   ]
  },
  {
   "cell_type": "code",
   "execution_count": 28,
   "id": "00528329",
   "metadata": {},
   "outputs": [],
   "source": [
    "def invert_matrix(M):\n",
    "    n = M.shape[0]\n",
    "    I = np.identity(n=n)\n",
    "    M = np.concatenate((M, I), axis=1)\n",
    "    M = np.concatenate((M[np.any(M != 0, axis=1)], M[np.all(M == 0, axis=1)]), axis=0)\n",
    "    for i in range(0, n):\n",
    "        j = 1\n",
    "        pivot = M[i][i]\n",
    "        while pivot == 0 and i + j < n:\n",
    "            M[[i, i + j]] = M[[i + j, i]]\n",
    "            j += 1\n",
    "            pivot = M[i][i]\n",
    "        if pivot == 0:\n",
    "            return M[:, n:]\n",
    "        row = M[i]\n",
    "        M[i] = row / pivot\n",
    "        for j in [k for k in range(0, n) if k != i]:\n",
    "            M[j] = M[j] - M[i] * M[j][i]\n",
    "    return M[:, n:]"
   ]
  },
  {
   "cell_type": "code",
   "execution_count": 30,
   "id": "e883e8e5",
   "metadata": {},
   "outputs": [
    {
     "name": "stdout",
     "output_type": "stream",
     "text": [
      "[[5.73171449 0.78221769]\n",
      " [0.78221769 0.69771022]]\n"
     ]
    }
   ],
   "source": [
    "C_1 = invert_matrix(np.array(C))\n",
    "print(C_1)"
   ]
  },
  {
   "cell_type": "code",
   "execution_count": 41,
   "id": "5cccc3a8",
   "metadata": {},
   "outputs": [
    {
     "name": "stdout",
     "output_type": "stream",
     "text": [
      "Enter xk\n",
      "Enter xTk rowwise: 2.81 5.46\n",
      "[[2.81]\n",
      " [5.46]]\n"
     ]
    }
   ],
   "source": [
    "print(\"Enter xk\")\n",
    "xTk = list(map(float, input(\"Enter xTk rowwise: \").split()))\n",
    "xTk = np.matrix(xk).reshape(p,1)\n",
    "print(xTk)"
   ]
  },
  {
   "cell_type": "code",
   "execution_count": 42,
   "id": "d09b00f0",
   "metadata": {},
   "outputs": [],
   "source": [
    "# for f1"
   ]
  },
  {
   "cell_type": "code",
   "execution_count": 43,
   "id": "f7a639b3",
   "metadata": {},
   "outputs": [
    {
     "name": "stdout",
     "output_type": "stream",
     "text": [
      "[[43.82818099]]\n"
     ]
    }
   ],
   "source": [
    "a1 = Mu1*C_1*xTk\n",
    "a2 = (0.5)*Mu1*C_1*(transpose(Mu1))\n",
    "a3 = math.log(a/n)\n",
    "f1 = a1-a2+a3\n",
    "print(f1)"
   ]
  },
  {
   "cell_type": "code",
   "execution_count": 44,
   "id": "1484077f",
   "metadata": {},
   "outputs": [],
   "source": [
    "# for f2"
   ]
  },
  {
   "cell_type": "code",
   "execution_count": 45,
   "id": "e198bcbe",
   "metadata": {},
   "outputs": [
    {
     "name": "stdout",
     "output_type": "stream",
     "text": [
      "[[43.86302018]]\n"
     ]
    }
   ],
   "source": [
    "b1 = Mu2*C_1*xTk\n",
    "b2 = (0.5)*Mu2*C_1*(transpose(Mu2))\n",
    "b3 = math.log(b/n)\n",
    "f2 = b1-b2+b3\n",
    "print(f2)"
   ]
  },
  {
   "cell_type": "code",
   "execution_count": 47,
   "id": "7ad658db",
   "metadata": {},
   "outputs": [
    {
     "name": "stdout",
     "output_type": "stream",
     "text": [
      "Given condition is false.\n"
     ]
    }
   ],
   "source": [
    "if f1>f2:\n",
    "    print(\"Given condition is true.\")\n",
    "else:\n",
    "    print(\"Given condition is false.\")"
   ]
  }
 ],
 "metadata": {
  "kernelspec": {
   "display_name": "Python 3 (ipykernel)",
   "language": "python",
   "name": "python3"
  },
  "language_info": {
   "codemirror_mode": {
    "name": "ipython",
    "version": 3
   },
   "file_extension": ".py",
   "mimetype": "text/x-python",
   "name": "python",
   "nbconvert_exporter": "python",
   "pygments_lexer": "ipython3",
   "version": "3.9.7"
  }
 },
 "nbformat": 4,
 "nbformat_minor": 5
}
