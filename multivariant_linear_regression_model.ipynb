{
 "cells": [
  {
   "cell_type": "code",
   "execution_count": 7,
   "id": "a15741cd",
   "metadata": {},
   "outputs": [],
   "source": [
    "import numpy as np\n",
    "from scipy import linalg\n",
    "from copy import deepcopy"
   ]
  },
  {
   "cell_type": "code",
   "execution_count": 3,
   "id": "4977fde5",
   "metadata": {},
   "outputs": [
    {
     "name": "stdout",
     "output_type": "stream",
     "text": [
      "no.of observations : 12\n",
      "no.of independent variables : 3\n",
      "no.of dependent variables : 2\n",
      "Enter rowwise: 10 100 12 110 11 105 9 94 9 95 10 99 11 104 12 108 11 105 10 98 11 103 12 110\n",
      "Enter rowwise: 1 9 62 1.0 1 8 58 1.3 1 7 64 1.2 1 14 60 .8 1 12 63 .8 1 10 57 .9 1 7 55 1 1 4 56 1.2 1 6 59 1.1 1 5 61 1 1 7 57 1.2 1 6 60 1.2\n"
     ]
    }
   ],
   "source": [
    "n=int(input(\"no.of observations : \"))\n",
    "# 12\n",
    "p=int(input(\"no.of independent variables : \"))\n",
    "# 3\n",
    "k=int(input(\"no.of dependent variables : \"))\n",
    "# 2\n",
    "y=list(map(int, input(\"Enter y values rowwise: \").split()))\n",
    "# 10 100 12 110 11 105 9 94 9 95 10 99 11 104 12 108 11 105 10 98 11 103 12 110\n",
    "y=np.matrix(y).reshape(n,k)\n",
    "x=list(map(float, input(\"Enter x values rowwise: \").split()))\n",
    "# 1 9 62 1.0 1 8 58 1.3 1 7 64 1.2 1 14 60 .8 1 12 63 .8 1 10 57 .9 1 7 55 1 1 4 56 1.2 1 6 59 1.1 1 5 61 1 1 7 57 1.2 1 6 60 1.2\n",
    "x=np.matrix(x).reshape(n,p+1)\n",
    "xt=x.T"
   ]
  },
  {
   "cell_type": "code",
   "execution_count": 6,
   "id": "885a84d1",
   "metadata": {},
   "outputs": [
    {
     "name": "stdout",
     "output_type": "stream",
     "text": [
      "y= [[ 10 100]\n",
      " [ 12 110]\n",
      " [ 11 105]\n",
      " [  9  94]\n",
      " [  9  95]\n",
      " [ 10  99]\n",
      " [ 11 104]\n",
      " [ 12 108]\n",
      " [ 11 105]\n",
      " [ 10  98]\n",
      " [ 11 103]\n",
      " [ 12 110]]\n",
      "x= [[ 1.   9.  62.   1. ]\n",
      " [ 1.   8.  58.   1.3]\n",
      " [ 1.   7.  64.   1.2]\n",
      " [ 1.  14.  60.   0.8]\n",
      " [ 1.  12.  63.   0.8]\n",
      " [ 1.  10.  57.   0.9]\n",
      " [ 1.   7.  55.   1. ]\n",
      " [ 1.   4.  56.   1.2]\n",
      " [ 1.   6.  59.   1.1]\n",
      " [ 1.   5.  61.   1. ]\n",
      " [ 1.   7.  57.   1.2]\n",
      " [ 1.   6.  60.   1.2]]\n",
      "xt= [[ 1.   1.   1.   1.   1.   1.   1.   1.   1.   1.   1.   1. ]\n",
      " [ 9.   8.   7.  14.  12.  10.   7.   4.   6.   5.   7.   6. ]\n",
      " [62.  58.  64.  60.  63.  57.  55.  56.  59.  61.  57.  60. ]\n",
      " [ 1.   1.3  1.2  0.8  0.8  0.9  1.   1.2  1.1  1.   1.2  1.2]]\n"
     ]
    }
   ],
   "source": [
    "print(\"y=\",y)\n",
    "print(\"x=\",x)\n",
    "print(\"xt=\",xt)"
   ]
  },
  {
   "cell_type": "code",
   "execution_count": 8,
   "id": "05d323e2",
   "metadata": {},
   "outputs": [],
   "source": [
    "def invert_matrix(M):\n",
    "    n = M.shape[0]\n",
    "    I = np.identity(n=n)\n",
    "    M = np.concatenate((M, I), axis=1)\n",
    "    M = np.concatenate((M[np.any(M != 0, axis=1)], M[np.all(M == 0, axis=1)]), axis=0)\n",
    "    for i in range(0, n):\n",
    "        j = 1\n",
    "        pivot = M[i][i]\n",
    "        while pivot == 0 and i + j < n:\n",
    "            M[[i, i + j]] = M[[i + j, i]]\n",
    "            j += 1\n",
    "            pivot = M[i][i]\n",
    "        if pivot == 0:\n",
    "            return M[:, n:]\n",
    "        row = M[i]\n",
    "        M[i] = row / pivot\n",
    "        for j in [k for k in range(0, n) if k != i]:\n",
    "            M[j] = M[j] - M[i] * M[j][i]\n",
    "    return M[:, n:]\n",
    "\n",
    "\n",
    "def smallermatrix(original_matrix,row,coloumns):\n",
    "    new_matrix=deepcopy(original_matrix)\n",
    "    new_matrix.remove(original_matrix[row])\n",
    "    for i in range(len(new_matrix)):\n",
    "        new_matrix[i].remove(new_matrix[i][coloumns])\n",
    "    return new_matrix\n",
    "\n",
    "\n",
    "def determinent(matrix):\n",
    "    no_rows=len(matrix)\n",
    "    for row in matrix:\n",
    "        if len(row)!=no_rows:\n",
    "            print(\"not a square matrix\")\n",
    "            return None\n",
    "    if len(matrix)==2:\n",
    "        simple_det=(matrix[0][0]*matrix[1][1])-(matrix[1][0]*matrix[0][1])\n",
    "        return simple_det\n",
    "    else:\n",
    "        #cofactor expression\n",
    "        answer=0\n",
    "        no_columns=no_rows\n",
    "        for j in range(no_columns):\n",
    "            cofactor=((-1) ** (0+j) * matrix[0][j]) * (determinent(smallermatrix(matrix,0,j)))\n",
    "            answer+=cofactor\n",
    "        return answer\n",
    "    \n",
    "def trans(x):\n",
    "    a = x.shape\n",
    "    tr = np.zeros((a[1], a[0]))\n",
    "    b = tr.shape\n",
    "    for i in range(0,3):\n",
    "        for j in range(0,12):\n",
    "            tr[i,j] = x[j,i]\n",
    "    return(tr)"
   ]
  },
  {
   "cell_type": "code",
   "execution_count": 46,
   "id": "d20bf152",
   "metadata": {},
   "outputs": [
    {
     "name": "stdout",
     "output_type": "stream",
     "text": [
      "[[ 1.08969952e+01  9.10971989e+01]\n",
      " [-4.49402884e-02 -6.40072328e-02]\n",
      " [-8.77035871e-02 -2.94373672e-01]\n",
      " [ 5.03545972e+00  2.78353035e+01]]\n"
     ]
    }
   ],
   "source": [
    "xtx = xt*x\n",
    "xtx_1 = invert_matrix(np.array(xtx))\n",
    "xty = xt*y\n",
    "B = xtx_1*xty\n",
    "print(B)"
   ]
  },
  {
   "cell_type": "code",
   "execution_count": 36,
   "id": "77467f99",
   "metadata": {},
   "outputs": [
    {
     "name": "stdout",
     "output_type": "stream",
     "text": [
      "[[ 1.08969952e+01  9.10971989e+01]\n",
      " [-4.49402884e-02 -6.40072328e-02]\n",
      " [-8.77035871e-02 -2.94373672e-01]\n",
      " [ 5.03545972e+00  2.78353035e+01]]\n"
     ]
    }
   ],
   "source": [
    "#xtx = xt*x\n",
    "#xtx_1 = linalg.inv(xtx)\n",
    "#xty = xt*y\n",
    "#B = xtx_1*xty\n",
    "#print(B)"
   ]
  },
  {
   "cell_type": "code",
   "execution_count": 47,
   "id": "8f374f6d",
   "metadata": {},
   "outputs": [
    {
     "name": "stdout",
     "output_type": "stream",
     "text": [
      "The output of multivariant linear regression model is :\n",
      "\n",
      "y1 =  10.896995240655997  +  -0.04494028839276609 x1 +  -0.08770358705352299 x2 +  5.035459723745134 x3\n",
      "\n",
      "y2 =  91.097198934689  +  -0.06400723277204179 x1 +  -0.29437367196230824 x2 +  27.83530349089051 x3\n"
     ]
    }
   ],
   "source": [
    "print(\"The output of multivariant linear regression model is :\")\n",
    "print()\n",
    "print(\"y1 = \",B[0,0],\" + \",B[1,0],\"x1 + \",B[2,0],\"x2 + \",B[3,0],\"x3\")\n",
    "print()\n",
    "print(\"y2 = \",B[0,1],\" + \",B[1,1],\"x1 + \",B[2,1],\"x2 + \",B[3,1],\"x3\")"
   ]
  }
 ],
 "metadata": {
  "kernelspec": {
   "display_name": "Python 3 (ipykernel)",
   "language": "python",
   "name": "python3"
  },
  "language_info": {
   "codemirror_mode": {
    "name": "ipython",
    "version": 3
   },
   "file_extension": ".py",
   "mimetype": "text/x-python",
   "name": "python",
   "nbconvert_exporter": "python",
   "pygments_lexer": "ipython3",
   "version": "3.9.7"
  }
 },
 "nbformat": 4,
 "nbformat_minor": 5
}
