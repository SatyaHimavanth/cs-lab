{
 "cells": [
  {
   "cell_type": "code",
   "execution_count": 1,
   "id": "2215d513",
   "metadata": {},
   "outputs": [],
   "source": [
    "import numpy as np"
   ]
  },
  {
   "cell_type": "code",
   "execution_count": 3,
   "id": "e64de7bd",
   "metadata": {},
   "outputs": [
    {
     "name": "stdout",
     "output_type": "stream",
     "text": [
      "13 10 8 11 8\n",
      "13 11 14 14\n",
      "4 1 3 4 2 4\n"
     ]
    }
   ],
   "source": [
    "a=list(map(int, input().split()))\n",
    "b=list(map(int, input().split()))\n",
    "c=list(map(int, input().split()))\n",
    "#d=list(map(int, input().split()))\n",
    "#print(a,b,c,d)"
   ]
  },
  {
   "cell_type": "code",
   "execution_count": 4,
   "id": "ff0a627b",
   "metadata": {},
   "outputs": [
    {
     "name": "stdout",
     "output_type": "stream",
     "text": [
      "1262 960.0 302.0 270.0 32.0\n"
     ]
    }
   ],
   "source": [
    "x=np.array(a)\n",
    "y=np.array(b)\n",
    "z=np.array(c)\n",
    "#p=np.array(d)\n",
    "G=sum(a)+sum(b)+sum(c) #+sum(d)\n",
    "zti2ni=(sum(a)**2)/len(a) + (sum(b)**2)/len(b) + (sum(c)**2)/len(c) # + (sum(d)**2)/len(c)\n",
    "rss=sum(x**2) + sum(y**2) + sum(z**2) # + sum(p**2)\n",
    "cf=(G**2)/(len(a)+len(b)+len(c)) #+len(d)\n",
    "sst=rss-cf\n",
    "sstr=zti2ni - cf\n",
    "sse=sst-sstr\n",
    "print(rss,cf,sst,sstr,sse)"
   ]
  },
  {
   "cell_type": "code",
   "execution_count": 5,
   "id": "3c2eb374",
   "metadata": {},
   "outputs": [
    {
     "name": "stdout",
     "output_type": "stream",
     "text": [
      "135.0 2.6666666666666665\n",
      "50.62\n"
     ]
    }
   ],
   "source": [
    "'''sstr=sstr/(4-1)\n",
    "sse=sse/(len(a)+len(b)+len(c)+len(d)-4)'''\n",
    "sstr=sstr/(3-1)\n",
    "sse=sse/(len(a)+len(b)+len(c)-3)\n",
    "print(sstr,sse)\n",
    "F=sstr/sse\n",
    "cou=0\n",
    "if F<1:\n",
    "  F=sse/sstr\n",
    "  cou=1\n",
    "F=F.round(2)\n",
    "print(F)"
   ]
  },
  {
   "cell_type": "code",
   "execution_count": 6,
   "id": "bb54dab8",
   "metadata": {},
   "outputs": [
    {
     "data": {
      "text/plain": [
       "3.89"
      ]
     },
     "execution_count": 6,
     "metadata": {},
     "output_type": "execute_result"
    }
   ],
   "source": [
    "import scipy.stats as s\n",
    "if cou==0:\n",
    "  Ft=s.f.ppf(1-0.05,3-1,len(a)+len(b)+len(c)-3)\n",
    "  #Ft=s.f.ppf(1-.01, 4-1, len(a)+len(b)+len(c)+len(d)-4)\n",
    "else:\n",
    "  Ft=s.f.ppf(1-.05, len(a)+len(b)+len(c)-3,  3-1)\n",
    "  #Ft=s.f.ppf(1-.01, len(a)+len(b)+len(c)+len(d)-4,  4-1)\n",
    "Ft.round(2)"
   ]
  },
  {
   "cell_type": "code",
   "execution_count": 7,
   "id": "227b1c66",
   "metadata": {},
   "outputs": [
    {
     "name": "stdout",
     "output_type": "stream",
     "text": [
      "We reject Ho\n"
     ]
    }
   ],
   "source": [
    "if F>Ft:\n",
    "  print(\"We reject Ho\")\n",
    "else:\n",
    "  print(\"We accept H1\")"
   ]
  },
  {
   "cell_type": "code",
   "execution_count": null,
   "id": "733a78cc",
   "metadata": {},
   "outputs": [],
   "source": []
  }
 ],
 "metadata": {
  "kernelspec": {
   "display_name": "Python 3 (ipykernel)",
   "language": "python",
   "name": "python3"
  },
  "language_info": {
   "codemirror_mode": {
    "name": "ipython",
    "version": 3
   },
   "file_extension": ".py",
   "mimetype": "text/x-python",
   "name": "python",
   "nbconvert_exporter": "python",
   "pygments_lexer": "ipython3",
   "version": "3.9.7"
  }
 },
 "nbformat": 4,
 "nbformat_minor": 5
}
