{
 "cells": [
  {
   "cell_type": "code",
   "execution_count": 19,
   "metadata": {},
   "outputs": [],
   "source": [
    "import numpy as np"
   ]
  },
  {
   "cell_type": "code",
   "execution_count": 20,
   "metadata": {},
   "outputs": [
    {
     "name": "stdout",
     "output_type": "stream",
     "text": [
      "13 7 9 3\n",
      "6 6 3 1\n",
      "11 5 15 5\n",
      "[13, 7, 9, 3] [6, 6, 3, 1] [11, 5, 15, 5]\n"
     ]
    }
   ],
   "source": [
    "a=list(map(int, input().split()))\n",
    "b=list(map(int, input().split()))\n",
    "c=list(map(int, input().split()))\n",
    "#d=list(map(int, input().split()))\n",
    "print(a,b,c)\n",
    "#print(a,b,c,d)"
   ]
  },
  {
   "cell_type": "code",
   "execution_count": 28,
   "metadata": {},
   "outputs": [
    {
     "name": "stdout",
     "output_type": "stream",
     "text": [
      "[32, 16, 36] [1024, 256, 1296]\n"
     ]
    }
   ],
   "source": [
    "ti=[sum(a),sum(b),sum(c)]\n",
    "#ti=[sum(a),sum(b),sum(c),sum(d)]\n",
    "x=np.array(ti)\n",
    "ti2=list(x**2)\n",
    "print(ti,ti2)"
   ]
  },
  {
   "cell_type": "code",
   "execution_count": 29,
   "metadata": {},
   "outputs": [
    {
     "name": "stdout",
     "output_type": "stream",
     "text": [
      "[30, 18, 27, 9] [900, 324, 729, 81]\n"
     ]
    }
   ],
   "source": [
    "bj=[]\n",
    "for i in range(len(a)):\n",
    "    bj.append(a[i]+b[i]+c[i])\n",
    "    #bj.append(a[i]+b[i]+c[i]+d[i])\n",
    "y=np.array(bj)\n",
    "bj2=list(y**2)\n",
    "print(bj,bj2)"
   ]
  },
  {
   "cell_type": "code",
   "execution_count": 30,
   "metadata": {},
   "outputs": [
    {
     "name": "stdout",
     "output_type": "stream",
     "text": [
      "84 12 2576 2034\n"
     ]
    }
   ],
   "source": [
    "G=sum(ti)\n",
    "N=len(a)+len(b)+len(c)\n",
    "#N=len(a)+len(b)+len(c)+len(d)\n",
    "zti2=sum(ti2)\n",
    "zbj2=sum(bj2)\n",
    "print(G,N,zti2,zbj2)"
   ]
  },
  {
   "cell_type": "code",
   "execution_count": 31,
   "metadata": {},
   "outputs": [
    {
     "name": "stdout",
     "output_type": "stream",
     "text": [
      "786 588.0 198.0 56.0 90.0 52.0\n"
     ]
    }
   ],
   "source": [
    "rss=0\n",
    "for i in range(len(a)):\n",
    "    rss=rss + a[i]**2 + b[i]**2 + c[i]**2\n",
    "    #rss=rss + a[i]**2 + b[i]**2 + c[i]**2 + d[i]**2\n",
    "cf=(G**2)/N\n",
    "sst=rss-cf\n",
    "sstr=(1/len(a))*(zti2) -cf\n",
    "ssb=(1/3)*(zbj2) -cf\n",
    "#ssb=(1/4)*(zbj2) -cf\n",
    "sse=sst-sstr-ssb\n",
    "print(rss,cf,sst,sstr,ssb,sse)"
   ]
  },
  {
   "cell_type": "code",
   "execution_count": 32,
   "metadata": {},
   "outputs": [
    {
     "name": "stdout",
     "output_type": "stream",
     "text": [
      "28.0 30.0 8.666666666666666 3.230769230769231 3.4615384615384617\n"
     ]
    }
   ],
   "source": [
    "SStr=sstr/(3-1)\n",
    "#SStr=sstr/(4-1)\n",
    "SSb=ssb/(len(a)-1)\n",
    "SSe=sse/((3-1)*(len(a)-1))\n",
    "#SSe=sse/((4-1)*(len(a)-1))\n",
    "Ftr=SStr/SSe\n",
    "Fb=SSb/SSe\n",
    "m=0\n",
    "n=0\n",
    "if Ftr<1:\n",
    "    Ftr=1/Ftr\n",
    "    m=1\n",
    "if Fb<1:\n",
    "    Fbb=1/Fb\n",
    "    n=1\n",
    "print(SStr,SSb,SSe,Ftr,Fb)"
   ]
  },
  {
   "cell_type": "code",
   "execution_count": 34,
   "metadata": {},
   "outputs": [
    {
     "name": "stdout",
     "output_type": "stream",
     "text": [
      "We accept Ho(tr)\n",
      "We accept Ho(b)\n"
     ]
    }
   ],
   "source": [
    "import scipy.stats as s\n",
    "if m==0:\n",
    "    Ft1=s.f.ppf(1-0.01,3-1,(3-1)*(len(a)-1))\n",
    "else:\n",
    "    Ft1=s.f.ppf(1-0.01,(3-1)*(len(a)-1),3-1)\n",
    "if n==0:\n",
    "    Ft2=s.f.ppf(1-.01,len(a)-1,(3-1)*(len(a)-1))\n",
    "else:\n",
    "    Ft2=s.f.ppf(1-.01,(3-1)*(len(a)-1),len(a)-1)\n",
    "'''\n",
    "if m==0:\n",
    "    Ft1=s.f.ppf(1-0.01,4-1,(4-1)*(len(a)-1))\n",
    "else:\n",
    "    Ft1=s.f.ppf(1-0.01,(4-1)*(len(a)-1),4-1)\n",
    "if n==0:\n",
    "    Ft2=s.f.ppf(1-.01,len(a)-1,(4-1)*(len(a)-1))\n",
    "else:\n",
    "    Ft2=s.f.ppf(1-.01,(4-1)*(len(a)-1),len(a)-1)\n",
    "'''\n",
    "if Ftr>Ft1:\n",
    "    print(\"We reject Ho(tr)\")\n",
    "else:\n",
    "    print(\"We accept Ho(tr)\")\n",
    "if Fb>Ft2:\n",
    "    print(\"We reject Ho(b)\")\n",
    "else:\n",
    "    print(\"We accept Ho(b)\")"
   ]
  }
 ],
 "metadata": {
  "kernelspec": {
   "display_name": "Python 3",
   "language": "python",
   "name": "python3"
  },
  "language_info": {
   "codemirror_mode": {
    "name": "ipython",
    "version": 3
   },
   "file_extension": ".py",
   "mimetype": "text/x-python",
   "name": "python",
   "nbconvert_exporter": "python",
   "pygments_lexer": "ipython3",
   "version": "3.8.5"
  }
 },
 "nbformat": 4,
 "nbformat_minor": 4
}
