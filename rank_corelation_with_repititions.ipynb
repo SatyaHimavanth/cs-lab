{
 "cells": [
  {
   "cell_type": "code",
   "execution_count": 1,
   "id": "376e5c14",
   "metadata": {},
   "outputs": [],
   "source": [
    "import numpy as np"
   ]
  },
  {
   "cell_type": "code",
   "execution_count": 2,
   "id": "523d9ece",
   "metadata": {},
   "outputs": [],
   "source": [
    "cf=[]\n",
    "def find_rank(l):\n",
    "    r={}\n",
    "    s=list(set(l))\n",
    "    w=l.copy()\n",
    "    s.sort(reverse=True)\n",
    "    w.sort(reverse=True)\n",
    "    a=1\n",
    "    for i in s:\n",
    "        m=l.count(i)\n",
    "        if m==1:\n",
    "            r[i]=a\n",
    "            a+=1\n",
    "        else:\n",
    "            q=0\n",
    "            for j in range(m):\n",
    "                q+=a\n",
    "                a+=1\n",
    "            r[i]=q/m\n",
    "            cf.append(m*(m**2-1)/12)\n",
    "    return r"
   ]
  },
  {
   "cell_type": "code",
   "execution_count": 3,
   "id": "00e3da7c",
   "metadata": {},
   "outputs": [
    {
     "name": "stdout",
     "output_type": "stream",
     "text": [
      "[-1, -1.0, -1.0, -1, 5.0, -5, -1.0, 1, 0, 4.0]\n",
      "[1, 1.0, 1.0, 1, 25.0, 25, 1.0, 1, 0, 16.0]\n",
      "{80: 1, 75: 2.5, 68: 4, 64: 6.0, 55: 8, 50: 9, 40: 10}\n",
      "[0.5, 2.0, 0.5]\n",
      "75.0\n",
      "450.0\n",
      "990\n",
      "Rank corelation is 0.54545\n"
     ]
    }
   ],
   "source": [
    "x=[68,64,75,50,64,80,75,40,55,64]\n",
    "y=[62,58,68,45,81,60,68,48,50,70]\n",
    "#x=list(map(int, input().split()))\n",
    "#y=list(map(int, input().split()))\n",
    "x_rank=find_rank(x)\n",
    "y_rank=find_rank(y)\n",
    "n=len(x)\n",
    "d=[]\n",
    "for i in range(n):\n",
    "    d.append(x_rank[x[i]]-y_rank[y[i]])\n",
    "\n",
    "d_2=[i*i for i in d]\n",
    "if len(cf)!=0:\n",
    "    sum_d_2=sum(d_2)+sum(cf)\n",
    "else:\n",
    "    sum_d_2=sum(d_2)\n",
    "print(d)\n",
    "print(d_2)\n",
    "print(x_rank)\n",
    "print(cf)\n",
    "print(sum_d_2)\n",
    "num=6*sum_d_2\n",
    "den=n*(n**2 - 1)\n",
    "print(num)\n",
    "print(den)\n",
    "rankcorelation=1 - num/den\n",
    "print(\"Rank corelation is {:.5f}\".format(rankcorelation))"
   ]
  }
 ],
 "metadata": {
  "kernelspec": {
   "display_name": "Python 3 (ipykernel)",
   "language": "python",
   "name": "python3"
  },
  "language_info": {
   "codemirror_mode": {
    "name": "ipython",
    "version": 3
   },
   "file_extension": ".py",
   "mimetype": "text/x-python",
   "name": "python",
   "nbconvert_exporter": "python",
   "pygments_lexer": "ipython3",
   "version": "3.9.7"
  }
 },
 "nbformat": 4,
 "nbformat_minor": 5
}
