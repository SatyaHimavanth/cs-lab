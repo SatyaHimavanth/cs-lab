{
 "cells": [
  {
   "cell_type": "code",
   "execution_count": 1,
   "id": "6500c6ee",
   "metadata": {},
   "outputs": [],
   "source": [
    "import pandas as pd\n",
    "import numpy as np\n",
    "import math"
   ]
  },
  {
   "cell_type": "code",
   "execution_count": 2,
   "id": "34b73471",
   "metadata": {},
   "outputs": [
    {
     "name": "stdout",
     "output_type": "stream",
     "text": [
      "1 2 3 4 6 8\n",
      "2.4 3 3.6 4 5 6\n",
      "[1, 2, 3, 4, 6, 8] [2.4, 3.0, 3.6, 4.0, 5.0, 6.0]\n"
     ]
    }
   ],
   "source": [
    "x=list(map(int, input().split()))\n",
    "y=list(map(float, input().split()))\n",
    "print(x,y)"
   ]
  },
  {
   "cell_type": "code",
   "execution_count": 4,
   "id": "b88fc6c6",
   "metadata": {},
   "outputs": [],
   "source": [
    "X=[]\n",
    "Y=[]\n",
    "XY=[]\n",
    "X2=[]\n",
    "for i in range(len(x)):\n",
    "    X.append(math.log(x[i],10))\n",
    "    Y.append(math.log(y[i],10))\n",
    "for i in range(len(x)):\n",
    "    XY.append(X[i]*Y[i])\n",
    "    X2.append(pow(X[i],2))"
   ]
  },
  {
   "cell_type": "code",
   "execution_count": 5,
   "id": "e20f104c",
   "metadata": {},
   "outputs": [
    {
     "name": "stdout",
     "output_type": "stream",
     "text": [
      "6 3.0614524790871926 3.49281624324618 2.018172775008516 2.101830876231284\n"
     ]
    }
   ],
   "source": [
    "n=len(x)\n",
    "zX=sum(X)\n",
    "zY=sum(Y)\n",
    "zXY=sum(XY)\n",
    "zX2=sum(X2)\n",
    "print(n,zX,zY,zXY,zX2)\n"
   ]
  },
  {
   "cell_type": "code",
   "execution_count": 6,
   "id": "05d06ae7",
   "metadata": {},
   "outputs": [
    {
     "data": {
      "text/plain": [
       "array([0.35904621, 0.43722351])"
      ]
     },
     "execution_count": 6,
     "metadata": {},
     "output_type": "execute_result"
    }
   ],
   "source": [
    "a=np.array([[n,zX],[zX,zX2]])\n",
    "b=np.array([zY,zXY])\n",
    "sol=np.linalg.solve(a,b)\n",
    "sol"
   ]
  },
  {
   "cell_type": "code",
   "execution_count": 7,
   "id": "87e725e5",
   "metadata": {},
   "outputs": [
    {
     "name": "stdout",
     "output_type": "stream",
     "text": [
      "y=2.29 x ^ 0.44\n"
     ]
    }
   ],
   "source": [
    "print(\"y=%.2f x ^ %.2f\"%(pow(10,sol[0]),sol[1]))"
   ]
  }
 ],
 "metadata": {
  "kernelspec": {
   "display_name": "Python 3 (ipykernel)",
   "language": "python",
   "name": "python3"
  },
  "language_info": {
   "codemirror_mode": {
    "name": "ipython",
    "version": 3
   },
   "file_extension": ".py",
   "mimetype": "text/x-python",
   "name": "python",
   "nbconvert_exporter": "python",
   "pygments_lexer": "ipython3",
   "version": "3.9.7"
  }
 },
 "nbformat": 4,
 "nbformat_minor": 5
}
