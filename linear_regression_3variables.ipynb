{
 "cells": [
  {
   "cell_type": "code",
   "execution_count": 1,
   "id": "95a43fd8",
   "metadata": {},
   "outputs": [],
   "source": [
    "import pandas as pd\n",
    "import numpy as np\n",
    "import math"
   ]
  },
  {
   "cell_type": "code",
   "execution_count": 2,
   "id": "cb52e105",
   "metadata": {},
   "outputs": [
    {
     "name": "stdout",
     "output_type": "stream",
     "text": [
      "0 1 2 3 4\n",
      "1 1.8 1.3 2.5 6.3\n",
      "[0, 1, 2, 3, 4] [1.0, 1.8, 1.3, 2.5, 6.3]\n"
     ]
    }
   ],
   "source": [
    "x=list(map(int, input().split()))\n",
    "y=list(map(float, input().split()))\n",
    "print(x,y)"
   ]
  },
  {
   "cell_type": "code",
   "execution_count": 3,
   "id": "8515ba11",
   "metadata": {},
   "outputs": [
    {
     "data": {
      "text/html": [
       "<div>\n",
       "<style scoped>\n",
       "    .dataframe tbody tr th:only-of-type {\n",
       "        vertical-align: middle;\n",
       "    }\n",
       "\n",
       "    .dataframe tbody tr th {\n",
       "        vertical-align: top;\n",
       "    }\n",
       "\n",
       "    .dataframe thead th {\n",
       "        text-align: right;\n",
       "    }\n",
       "</style>\n",
       "<table border=\"1\" class=\"dataframe\">\n",
       "  <thead>\n",
       "    <tr style=\"text-align: right;\">\n",
       "      <th></th>\n",
       "      <th>x</th>\n",
       "      <th>y</th>\n",
       "      <th>xy</th>\n",
       "      <th>x2y</th>\n",
       "      <th>x2</th>\n",
       "      <th>x3</th>\n",
       "      <th>x4</th>\n",
       "    </tr>\n",
       "  </thead>\n",
       "  <tbody>\n",
       "    <tr>\n",
       "      <th>0</th>\n",
       "      <td>0</td>\n",
       "      <td>1.0</td>\n",
       "      <td>0.0</td>\n",
       "      <td>0.0</td>\n",
       "      <td>0</td>\n",
       "      <td>0</td>\n",
       "      <td>0</td>\n",
       "    </tr>\n",
       "    <tr>\n",
       "      <th>1</th>\n",
       "      <td>1</td>\n",
       "      <td>1.8</td>\n",
       "      <td>1.8</td>\n",
       "      <td>1.8</td>\n",
       "      <td>1</td>\n",
       "      <td>1</td>\n",
       "      <td>1</td>\n",
       "    </tr>\n",
       "    <tr>\n",
       "      <th>2</th>\n",
       "      <td>2</td>\n",
       "      <td>1.3</td>\n",
       "      <td>2.6</td>\n",
       "      <td>5.2</td>\n",
       "      <td>4</td>\n",
       "      <td>8</td>\n",
       "      <td>16</td>\n",
       "    </tr>\n",
       "    <tr>\n",
       "      <th>3</th>\n",
       "      <td>3</td>\n",
       "      <td>2.5</td>\n",
       "      <td>7.5</td>\n",
       "      <td>22.5</td>\n",
       "      <td>9</td>\n",
       "      <td>27</td>\n",
       "      <td>81</td>\n",
       "    </tr>\n",
       "    <tr>\n",
       "      <th>4</th>\n",
       "      <td>4</td>\n",
       "      <td>6.3</td>\n",
       "      <td>25.2</td>\n",
       "      <td>100.8</td>\n",
       "      <td>16</td>\n",
       "      <td>64</td>\n",
       "      <td>256</td>\n",
       "    </tr>\n",
       "  </tbody>\n",
       "</table>\n",
       "</div>"
      ],
      "text/plain": [
       "   x    y    xy    x2y  x2  x3   x4\n",
       "0  0  1.0   0.0    0.0   0   0    0\n",
       "1  1  1.8   1.8    1.8   1   1    1\n",
       "2  2  1.3   2.6    5.2   4   8   16\n",
       "3  3  2.5   7.5   22.5   9  27   81\n",
       "4  4  6.3  25.2  100.8  16  64  256"
      ]
     },
     "execution_count": 3,
     "metadata": {},
     "output_type": "execute_result"
    }
   ],
   "source": [
    "xy=[]\n",
    "x2y=[]\n",
    "x2=[]\n",
    "x3=[]\n",
    "x4=[]\n",
    "for i in range(len(x)):\n",
    "    xy.append(x[i]*y[i])\n",
    "    x2y.append(y[i]*(pow(x[i],2)))\n",
    "    x2.append(pow(x[i],2))\n",
    "    x3.append(pow(x[i],3))\n",
    "    x4.append(pow(x[i],4))\n",
    "d={\"x\":x,\"y\":y,\"xy\":xy,\"x2y\":x2y,\"x2\":x2,\"x3\":x3,\"x4\":x4}\n",
    "data=pd.DataFrame(d)\n",
    "data"
   ]
  },
  {
   "cell_type": "code",
   "execution_count": 6,
   "id": "93c2d4c7",
   "metadata": {},
   "outputs": [
    {
     "name": "stdout",
     "output_type": "stream",
     "text": [
      "10 12.899999999999999 37.1 130.3 30 100 354 5\n"
     ]
    }
   ],
   "source": [
    "zx=sum(x)\n",
    "zy=sum(y)\n",
    "zxy=sum(xy)\n",
    "zx2y=sum(x2y)\n",
    "zx2=sum(x2)\n",
    "zx3=sum(x3)\n",
    "zx4=sum(x4)\n",
    "n=len(x)\n",
    "print(zx,zy,zxy,zx2y,zx2,zx3,zx4,n)"
   ]
  },
  {
   "cell_type": "code",
   "execution_count": 8,
   "id": "01ee97ea",
   "metadata": {},
   "outputs": [
    {
     "data": {
      "text/plain": [
       "array([ 1.42, -1.07,  0.55])"
      ]
     },
     "execution_count": 8,
     "metadata": {},
     "output_type": "execute_result"
    }
   ],
   "source": [
    "a=np.array([[n,zx,zx2],[zx,zx2,zx3],[zx2,zx3,zx4]])\n",
    "b=np.array([zy,zxy,zx2y])\n",
    "sol=np.linalg.solve(a,b)\n",
    "sol"
   ]
  },
  {
   "cell_type": "code",
   "execution_count": 12,
   "id": "6dae4052",
   "metadata": {},
   "outputs": [
    {
     "name": "stdout",
     "output_type": "stream",
     "text": [
      "y = 1.42 + -1.07 x + 0.55 x2\n"
     ]
    }
   ],
   "source": [
    "print(\"y = %.2f + %.2f x + %.2f x2\"%(sol[0],sol[1],sol[2]))"
   ]
  }
 ],
 "metadata": {
  "kernelspec": {
   "display_name": "Python 3 (ipykernel)",
   "language": "python",
   "name": "python3"
  },
  "language_info": {
   "codemirror_mode": {
    "name": "ipython",
    "version": 3
   },
   "file_extension": ".py",
   "mimetype": "text/x-python",
   "name": "python",
   "nbconvert_exporter": "python",
   "pygments_lexer": "ipython3",
   "version": "3.9.7"
  }
 },
 "nbformat": 4,
 "nbformat_minor": 5
}
