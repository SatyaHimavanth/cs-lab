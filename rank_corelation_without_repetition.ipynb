{
 "cells": [
  {
   "cell_type": "code",
   "execution_count": 1,
   "id": "11124667",
   "metadata": {},
   "outputs": [],
   "source": [
    "import numpy as np"
   ]
  },
  {
   "cell_type": "code",
   "execution_count": 9,
   "id": "651b103e",
   "metadata": {},
   "outputs": [
    {
     "name": "stdout",
     "output_type": "stream",
     "text": [
      "110 100 140 120 80 90\n",
      "70 60 80 90 10 20\n"
     ]
    }
   ],
   "source": [
    "x=list(map(int, input().split()))\n",
    "y=list(map(int, input().split()))"
   ]
  },
  {
   "cell_type": "code",
   "execution_count": 10,
   "id": "7de558fd",
   "metadata": {},
   "outputs": [
    {
     "name": "stdout",
     "output_type": "stream",
     "text": [
      "x= [110, 100, 140, 120, 80, 90] y= [70, 60, 80, 90, 10, 20]\n",
      "Sorted list\n",
      "x= [140, 120, 110, 100, 90, 80] y= [90, 80, 70, 60, 20, 10]\n"
     ]
    }
   ],
   "source": [
    "a=np.array(x)\n",
    "b=np.array(y)\n",
    "\n",
    "x.sort(reverse=True)\n",
    "y.sort(reverse=True)\n",
    "m=list(a)\n",
    "n=list(b)\n",
    "print(\"x=\",m,\"y=\",n)\n",
    "print(\"Sorted list\")\n",
    "print(\"x=\",x,\"y=\",y)"
   ]
  },
  {
   "cell_type": "code",
   "execution_count": 11,
   "id": "67148259",
   "metadata": {},
   "outputs": [
    {
     "name": "stdout",
     "output_type": "stream",
     "text": [
      "[110, 100, 140, 120, 80, 90] [70, 60, 80, 90, 10, 20]\n",
      "[3, 4, 1, 2, 6, 5] [3, 4, 2, 1, 6, 5]\n"
     ]
    }
   ],
   "source": [
    "rankx=[]\n",
    "ranky=[]\n",
    "for i in range(len(x)):\n",
    "  rankx.append(x.index(m[i]) +1)\n",
    "  ranky.append(y.index(n[i]) +1)\n",
    "print(m,n)\n",
    "print(rankx,ranky)"
   ]
  },
  {
   "cell_type": "code",
   "execution_count": 12,
   "id": "cdd92d1b",
   "metadata": {},
   "outputs": [
    {
     "data": {
      "text/plain": [
       "[0, 0, -1, 1, 0, 0]"
      ]
     },
     "execution_count": 12,
     "metadata": {},
     "output_type": "execute_result"
    }
   ],
   "source": [
    "di=np.array(rankx)-np.array(ranky)\n",
    "di=list(di)\n",
    "di"
   ]
  },
  {
   "cell_type": "code",
   "execution_count": 13,
   "id": "f8ce19cc",
   "metadata": {},
   "outputs": [
    {
     "name": "stdout",
     "output_type": "stream",
     "text": [
      "[0, 0, 1, 1, 0, 0]\n",
      "2\n"
     ]
    }
   ],
   "source": [
    "di2=np.array(di)\n",
    "di2=di2**2\n",
    "di2=list(di2)\n",
    "print(di2)\n",
    "print(sum(di2))"
   ]
  },
  {
   "cell_type": "code",
   "execution_count": 14,
   "id": "d137b6d1",
   "metadata": {},
   "outputs": [
    {
     "name": "stdout",
     "output_type": "stream",
     "text": [
      "0.9428571428571428\n"
     ]
    }
   ],
   "source": [
    "num=6*sum(di2)\n",
    "den=len(x)*(len(x)**2 -1)\n",
    "ro=1-(num/den)\n",
    "print(ro)"
   ]
  }
 ],
 "metadata": {
  "kernelspec": {
   "display_name": "Python 3 (ipykernel)",
   "language": "python",
   "name": "python3"
  },
  "language_info": {
   "codemirror_mode": {
    "name": "ipython",
    "version": 3
   },
   "file_extension": ".py",
   "mimetype": "text/x-python",
   "name": "python",
   "nbconvert_exporter": "python",
   "pygments_lexer": "ipython3",
   "version": "3.9.7"
  }
 },
 "nbformat": 4,
 "nbformat_minor": 5
}
